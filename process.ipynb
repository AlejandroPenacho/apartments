{
 "cells": [
  {
   "cell_type": "code",
   "execution_count": 1,
   "metadata": {},
   "outputs": [
    {
     "name": "stderr",
     "output_type": "stream",
     "text": [
      "/home/alejpr/anaconda3/envs/sssb/lib/python3.11/site-packages/requests/__init__.py:86: RequestsDependencyWarning: Unable to find acceptable character detection dependency (chardet or charset_normalizer).\n",
      "  warnings.warn(\n"
     ]
    }
   ],
   "source": [
    "import csv\n",
    "import main as utils"
   ]
  },
  {
   "cell_type": "code",
   "execution_count": 4,
   "metadata": {},
   "outputs": [],
   "source": [
    "current_apartments = {x.apartment.id: x.apartment for x in utils.get_all_items()}"
   ]
  },
  {
   "cell_type": "code",
   "execution_count": 9,
   "metadata": {},
   "outputs": [
    {
     "name": "stdout",
     "output_type": "stream",
     "text": [
      "Id:                  7202-5105-103\n",
      "Type:                1 rum & kök\n",
      "Area:                Lappkärrsberget\n",
      "Address:             Professorsslingan 51 / 1503\n",
      "Floor:               5\n",
      "Orientation:         None\n",
      "Living space:        22\n",
      "Rent:                7617 SEK\n",
      "Contract start:      2024-06-16\n",
      "Electricity free:    False\n",
      "Free rent summer:    False\n",
      "Max 4 years:         False\n",
      "Link:                https://sssb.se/soka-bostad/sok-ledigt/lediga-bostader/lagenhet/?refid=7350737772796653444c4c2f6134764a36646264485a774d3249626c6847322b34723173514a595558596b3d\n",
      "Free text:           \n"
     ]
    }
   ],
   "source": [
    "print(current_apartments[\"7202-5105-103\"])"
   ]
  },
  {
   "cell_type": "code",
   "execution_count": 12,
   "metadata": {},
   "outputs": [
    {
     "name": "stdout",
     "output_type": "stream",
     "text": [
      "[['Id', 'Type', 'Address', 'Area', 'Living space', 'Rent', 'Contract start', 'Electricity free', 'Free rent summer', 'Max 4 years'], ['3622-9106-198', '1 rum & pentry', 'Norra Stationsgatan 99 / 1374', 'Idun', '23', '6265', '2024-06-16', 'True', 'False', 'False'], ['3622-9907-066', '1 rum & pentry', 'Norra Stationsgatan 99 / 1412', 'Idun', '18', '4621', '2024-06-16', 'True', 'False', 'False'], ['5102-3209-002', '3 rum & kök', 'Armégatan 32 A / 1723', 'Strix', '56', '6548', '2024-06-16', 'False', 'False', 'True'], ['5102-3505-013', '1 rum & pentry', 'Armégatan 32 B / 1313', 'Strix', '20', '6655', '2024-06-16', 'False', 'False', 'False'], ['6202-2103-1124', '1 rum & kök', 'Kungshamra 21 / 1124', 'Kungshamra', '18', '6854', '2024-06-16', 'False', 'False', 'False'], ['6202-2104-1208', '1 rum & kök', 'Kungshamra 21 / 1208', 'Kungshamra', '18', '6866', '2024-06-16', 'False', 'False', 'False'], ['6404-0204-006', '1 rum & pentry', 'Kungshamra  2 / 1307', 'Kungshamra', '23', '5038', '2024-06-16', 'False', 'False', 'False'], ['6404-8202-013', '1 rum & pentry', 'Kungshamra 82 / 1123', 'Kungshamra', '23', '5033', '2024-06-16', 'False', 'False', 'False'], ['1202-1102-003', '1 rum & pentry', 'Öregrundsgatan 11 / 1004', 'Munin', '26', '5603', '2024-07-01', 'False', 'False', 'False'], ['2303-0908-002', '3 rum & kök', 'Körsbärsvägen 9 / 1402', 'Nyponet', '55', '9468', '2024-07-01', 'False', 'False', 'False'], ['2303-0916-005', '2 rum & pentry', 'Körsbärsvägen 9 / 2205', 'Nyponet', '37', '7491', '2024-07-01', 'False', 'False', 'False'], ['3321-0603-003', '2 rum & pentry', 'David Bagares Gata 6 / 1103', 'Vätan', '35', '8000', '2024-07-01', 'True', 'False', 'True'], ['4210-0109-012', '1 rum & pentry', 'Röntgenvägen 1 / 1609', 'Flemingsberg', '24', '3430', '2024-07-01', 'True', 'False', 'False'], ['4210-0115-005', '1 rum & pentry', 'Röntgenvägen 1 / 2221', 'Flemingsberg', '24', '3430', '2024-07-01', 'True', 'False', 'False'], ['4210-0117-017', '2 rum & pentry', 'Röntgenvägen 1 / 2407', 'Flemingsberg', '37', '5556', '2024-07-01', 'True', 'False', 'False'], ['4415-0107-068', '1 rum & pentry', 'Maltgatan 12 / 1506', 'Embla', '29', '6818', '2024-07-01', 'False', 'False', 'False'], ['4602-2003-1203', '1 rum & kök', 'Understensvägen 20 / 1203', 'Birka', '26', '8030', '2024-07-01', 'False', 'False', 'False'], ['4703-1507-1603', '1 rum & kök', 'Simrishamnsvägen 15 / 1603', 'Birka', '25', '8095', '2024-07-01', 'False', 'False', 'False'], ['5102-3504-001', '1 rum & pentry', 'Armégatan 32 B / 1201', 'Strix', '20', '6655', '2024-07-01', 'False', 'False', 'False'], ['5102-3606-007', '2 rum & pentry', 'Armégatan 32 C / 1507', 'Strix', '34', '10467', '2024-07-01', 'False', 'False', 'False'], ['5102-3609-006', '1 rum & pentry', 'Armégatan 32 C / 1806', 'Strix', '20', '6913', '2024-07-01', 'False', 'False', 'False'], ['5201-0503-022', '1 rum & pentry', 'Emmylundsvägen 5 / 1023', 'Pax', '22', '4900', '2024-07-01', 'False', 'False', 'False'], ['5604-0404-003', '1 rum & pentry', 'Gustav III:s Boulevard 4 / 1209', 'Frösunda', '24', '4568', '2024-07-01', 'True', 'False', 'False'], ['5711-0802-001', '1 rum & pentry', 'Gärdesvägen  8 / 1101', 'Freja', '23', '5124', '2024-07-01', 'True', 'False', 'False'], ['6202-1104-1203', '1 rum & kök', 'Kungshamra 11 / 1203', 'Kungshamra', '18', '6458', '2024-07-01', 'False', 'False', 'False'], ['6202-2202-004', '3 rum & kök', 'Kungshamra 22 B / 1101', 'Kungshamra', '56', '12541', '2024-07-01', 'False', 'False', 'False'], ['6202-4201-007', '3 rum & pentry', 'Kungshamra 42 A / 1001', 'Kungshamra', '57', '6977', '2024-07-01', 'False', 'False', 'False'], ['6202-4802-007', '1 rum & pentry', 'Kungshamra 48 / 1121', 'Kungshamra', '23', '5038', '2024-07-01', 'False', 'False', 'False'], ['7202-4705-104', '2 rum & kök', 'Professorsslingan 47 / 1504', 'Lappkärrsberget', '44', '11275', '2024-07-01', 'False', 'False', 'False'], ['7202-5106-105', '1 rum & kök', 'Professorsslingan 51 / 1605', 'Lappkärrsberget', '23', '7733', '2024-07-01', 'False', 'False', 'False'], ['7202-5308-106', '1 rum & kök', 'Professorsslingan 53 / 1806', 'Lappkärrsberget', '22', '7617', '2024-07-01', 'False', 'False', 'False'], ['7303-2707-004', '4 rum & kök', 'Professorsslingan 35 / 1604', 'Lappkärrsberget', '75', '10833', '2024-07-01', 'False', 'False', 'False'], ['7505-0803-006', '1 rum & pentry', 'Forskarbacken 19 / 1104', 'Lappkärrsberget', '18', '4090', '2024-07-01', 'True', 'False', 'False'], ['7707-0602-004', '1 rum & pentry', 'Forskarbacken 15 / 1101', 'Lappkärrsberget', '39', '5651', '2024-06-16', 'True', 'False', 'False'], ['2303-0904-006', '2 rum & pentry', 'Körsbärsvägen 9 / 1006', 'Nyponet', '37', '7369', '2024-06-16', 'False', 'False', 'False'], ['3622-9209-207', '1 rum & pentry', 'Norra Stationsgatan 99 / 1683', 'Idun', '20', '5562', '2024-06-16', 'True', 'False', 'False'], ['4210-0114-011', '1 rum & pentry', 'Röntgenvägen 1 / 2124', 'Flemingsberg', '28', '4060', '2024-06-16', 'True', 'False', 'False'], ['5102-3503-013', '1 rum & pentry', 'Armégatan 32 B / 1113', 'Strix', '20', '6371', '2024-06-16', 'False', 'False', 'False'], ['5102-3506-011', '1 rum & pentry', 'Armégatan 32 B / 1411', 'Strix', '20', '6655', '2024-06-16', 'False', 'False', 'False'], ['5102-3604-008', '2 rum & pentry', 'Armégatan 32 C / 1308', 'Strix', '35', '10480', '2024-06-16', 'False', 'False', 'False'], ['5201-0508-015', '1 rum & pentry', 'Emmylundsvägen 5 / 1503', 'Pax', '22', '4900', '2024-06-16', 'False', 'False', 'False'], ['6202-2104-1220', '1 rum & kök', 'Kungshamra 21 / 1220', 'Kungshamra', '18', '6854', '2024-06-16', 'False', 'False', 'False'], ['6202-2104-1224', '1 rum & kök', 'Kungshamra 21 / 1224', 'Kungshamra', '18', '6866', '2024-06-16', 'False', 'False', 'False'], ['7202-4707-102', '1 rum & kök', 'Professorsslingan 47 / 1702', 'Lappkärrsberget', '22', '7534', '2024-06-16', 'False', 'False', 'False'], ['2204-0506-009', '1 rum & pentry', 'Körsbärsvägen 5 / 1309', 'Domus', '31', '5378', '2024-07-01', 'True', 'False', 'False'], ['2303-0916-002', '3 rum & kök', 'Körsbärsvägen 9 / 2202', 'Nyponet', '55', '9464', '2024-07-01', 'False', 'False', 'False'], ['3419-3703-005', 'Rum i kollektiv', 'Kammakargatan 36 B / 1205', 'Kurland', '16', '6768', '2024-07-01', 'True', 'False', 'True'], ['3622-9107-202', '1 rum & pentry', 'Norra Stationsgatan 99 / 1478', 'Idun', '20', '5562', '2024-07-01', 'True', 'False', 'False'], ['3622-9909-037', '1 rum & pentry', 'Norra Stationsgatan 99 / 1637', 'Idun', '20', '4715', '2024-07-01', 'True', 'False', 'False'], ['4210-0109-020', '2 rum & kök', 'Röntgenvägen 1 / 1616', 'Flemingsberg', '63', '7639', '2024-07-01', 'True', 'False', 'False'], ['4210-0111-011', '1 rum & pentry', 'Röntgenvägen 1 / 1821', 'Flemingsberg', '28', '4227', '2024-07-01', 'True', 'False', 'False'], ['4415-0102-072', '1 rum & pentry', 'Hammarby Allé 78 C / 1004', 'Embla', '28', '6646', '2024-07-01', 'False', 'False', 'False'], ['4602-2002-1107', '2 rum & kök', 'Understensvägen 20 / 1107', 'Birka', '45', '11455', '2024-07-01', 'False', 'False', 'False'], ['4703-1506-1504', '1 rum & kök', 'Simrishamnsvägen 15 / 1504', 'Birka', '25', '8045', '2024-07-01', 'False', 'False', 'False'], ['5102-3204-006', '2 rum & pentry', 'Armégatan 32 A / 1215', 'Strix', '36', '5072', '2024-07-01', 'False', 'False', 'True'], ['5102-3506-009', '1 rum & pentry', 'Armégatan 32 B / 1409', 'Strix', '20', '6655', '2024-07-01', 'False', 'False', 'False'], ['5102-3601-001', '2 rum & pentry', 'Armégatan 32 C / 1001', 'Strix', '35', '10508', '2024-07-01', 'False', 'False', 'False'], ['5102-3608-015', '1 rum & pentry', 'Armégatan 32 C / 1715', 'Strix', '20', '6642', '2024-07-01', 'False', 'False', 'False'], ['5201-0508-013', '1 rum & pentry', 'Emmylundsvägen 5 / 1504', 'Pax', '22', '4900', '2024-07-01', 'False', 'False', 'False'], ['6202-1105-1309', '1 rum & kök', 'Kungshamra 11 / 1309', 'Kungshamra', '18', '6458', '2024-07-01', 'False', 'False', 'False'], ['6202-2102-1002', '1 rum & kök', 'Kungshamra 21 / 1002', 'Kungshamra', '18', '6902', '2024-07-01', 'False', 'False', 'False'], ['6202-2104-1219', '1 rum & kök', 'Kungshamra 21 / 1219', 'Kungshamra', '18', '6841', '2024-07-01', 'False', 'False', 'False'], ['6202-3302-005', '3 rum & pentry', 'Kungshamra 33 B / 1102', 'Kungshamra', '64', '7538', '2024-07-01', 'False', 'False', 'False'], ['6202-4704-004', '1 rum & pentry', 'Kungshamra 47 / 1303', 'Kungshamra', '23', '5038', '2024-07-01', 'False', 'False', 'False'], ['7101-5105-031', '1 rum & pentry', 'Professorsslingan 10 / 1233', 'Lappkärrsberget', '24', '5946', '2024-07-01', 'True', 'False', 'False'], ['7202-4701-107', '1 rum & kök', 'Professorsslingan 47 / 1107', 'Lappkärrsberget', '24', '7727', '2024-07-01', 'False', 'False', 'False'], ['7202-5105-101', '1 rum & kök', 'Professorsslingan 51 / 1501', 'Lappkärrsberget', '24', '7811', '2024-07-01', 'False', 'False', 'False'], ['7202-6108-105', '1 rum & kök', 'Professorsslingan 61 / 1605', 'Lappkärrsberget', '22', '7852', '2024-07-01', 'False', 'False', 'False'], ['7202-6507-105', '2 rum & kök', 'Professorsslingan 65 / 1505', 'Lappkärrsberget', '35', '10666', '2024-07-01', 'False', 'False', 'False'], ['7303-3002-002', '4 rum & kök', 'Professorsslingan 41 / 1001', 'Lappkärrsberget', '73', '10823', '2024-07-01', 'False', 'False', 'False'], ['7707-0501-002', '1 rum & pentry', 'Forskarbacken 13 / 1002', 'Lappkärrsberget', '18', '4098', '2024-07-01', 'True', 'False', 'False'], ['4210-0109-013', '1 rum & pentry', 'Röntgenvägen 1 / 1602', 'Flemingsberg', '28', '4227', '2024-06-16', 'True', 'False', 'False'], ['5102-3504-011', '1 rum & pentry', 'Armégatan 32 B / 1211', 'Strix', '20', '6655', '2024-06-16', 'False', 'False', 'False'], ['3622-9907-020', '1 rum & pentry', 'Norra Stationsgatan 99 / 1447', 'Idun', '19', '4466', '2024-06-16', 'True', 'False', 'False'], ['4210-0108-003', '1 rum & pentry', 'Röntgenvägen 1 / 1517', 'Flemingsberg', '24', '3430', '2024-06-16', 'True', 'False', 'False'], ['8303-010020103', '2 rum & pentry', 'Fyrverkarbacken 25 / 1402', 'Marieberg', '30', '5929', '2024-06-16', 'False', 'False', 'False'], ['7505-0803-001', '1 rum & pentry', 'Forskarbacken 19 / 1107', 'Lappkärrsberget', '18', '4090', '2024-06-16', 'True', 'False', 'False'], ['1106-2506-001', '2 rum & kök', 'Studentbacken 25 / 1418', 'Jerum', '41', '6970', '2024-07-01', 'True', 'False', 'True'], ['2204-0507-007', '2 rum & pentry', 'Körsbärsvägen 5 / 1407', 'Domus', '38', '6679', '2024-07-01', 'True', 'False', 'False'], ['3419-3604-008', 'Rum i kollektiv', 'Kammakargatan 36 A / 1203', 'Kurland', '21', '5644', '2024-07-01', 'True', 'False', 'True'], ['3622-9108-201', '1 rum & pentry', 'Norra Stationsgatan 99 / 1577', 'Idun', '20', '5562', '2024-07-01', 'True', 'False', 'False'], ['3622-9904-031', '1 rum & pentry', 'Norra Stationsgatan 99 / 1119', 'Idun', '20', '4075', '2024-07-01', 'True', 'False', 'False'], ['3622-9905-018', '1 rum & pentry', 'Norra Stationsgatan 99 / 1248', 'Idun', '19', '4427', '2024-07-01', 'True', 'False', 'False'], ['4210-0105-020', '2 rum & pentry', 'Röntgenvägen 1 / 1205', 'Flemingsberg', '38', '5843', '2024-07-01', 'True', 'False', 'False'], ['4210-0107-001', '4 rum & kök', 'Röntgenvägen 1 / 1418', 'Flemingsberg', '96', '10800', '2024-07-01', 'True', 'False', 'False'], ['4210-0116-018', '1 rum & pentry', 'Röntgenvägen 1 / 2304', 'Flemingsberg', '28', '4060', '2024-07-01', 'True', 'False', 'False'], ['4415-0105-057', '1 rum & pentry', 'Maltgatan 12 / 1316', 'Embla', '20', '5830', '2024-07-01', 'False', 'False', 'False'], ['4703-1502-1106', '1 rum & kök', 'Simrishamnsvägen 15 / 1106', 'Birka', '25', '7995', '2024-07-01', 'False', 'False', 'False'], ['5102-3506-002', '1 rum & pentry', 'Armégatan 32 B / 1402', 'Strix', '20', '6655', '2024-07-01', 'False', 'False', 'False'], ['5102-3509-011', '1 rum & pentry', 'Armégatan 32 B / 1711', 'Strix', '20', '6927', '2024-07-01', 'False', 'False', 'False'], ['5102-3603-003', '1 rum & pentry', 'Armégatan 32 C / 1203', 'Strix', '20', '6655', '2024-07-01', 'False', 'False', 'False'], ['5102-3606-014', '1 rum & pentry', 'Armégatan 32 C / 1514', 'Strix', '20', '6655', '2024-07-01', 'False', 'False', 'False'], ['5201-0503-012', '1 rum & pentry', 'Emmylundsvägen 5 / 1018', 'Pax', '22', '4900', '2024-07-01', 'False', 'False', 'False'], ['5201-0509-015', '1 rum & pentry', 'Emmylundsvägen 5 / 1603', 'Pax', '22', '4900', '2024-07-01', 'False', 'False', 'False'], ['6202-2102-1003', '1 rum & kök', 'Kungshamra 21 / 1003', 'Kungshamra', '18', '6902', '2024-07-01', 'False', 'False', 'False'], ['6202-2104-1203', '1 rum & kök', 'Kungshamra 21 / 1203', 'Kungshamra', '18', '6854', '2024-07-01', 'False', 'False', 'False'], ['6202-4602-001', '3 rum & pentry', 'Kungshamra 46 A / 1001', 'Kungshamra', '57', '7144', '2024-07-01', 'False', 'False', 'False'], ['6404-8202-012', '1 rum & pentry', 'Kungshamra 82 / 1110', 'Kungshamra', '23', '5033', '2024-07-01', 'False', 'False', 'False'], ['6404-8204-004', '1 rum & pentry', 'Kungshamra 82 / 1306', 'Kungshamra', '23', '5033', '2024-07-01', 'False', 'False', 'False'], ['7202-4705-101', '1 rum & kök', 'Professorsslingan 47 / 1501', 'Lappkärrsberget', '23', '7676', '2024-07-01', 'False', 'False', 'False'], ['7202-4708-102', '1 rum & kök', 'Professorsslingan 47 / 1802', 'Lappkärrsberget', '22', '7534', '2024-07-01', 'False', 'False', 'False'], ['7202-5102-107', '1 rum & kök', 'Professorsslingan 51 / 1207', 'Lappkärrsberget', '22', '7617', '2024-07-01', 'False', 'False', 'False'], ['7202-5107-101', '1 rum & kök', 'Professorsslingan 51 / 1701', 'Lappkärrsberget', '24', '7811', '2024-07-01', 'False', 'False', 'False'], ['7202-5304-108', '1 rum & kök', 'Professorsslingan 53 / 1408', 'Lappkärrsberget', '24', '7811', '2024-07-01', 'False', 'False', 'False'], ['7202-5706-106', '1 rum & kök', 'Professorsslingan 57 / 1406', 'Lappkärrsberget', '24', '8045', '2024-07-01', 'False', 'False', 'False'], ['7202-6104-103', '1 rum & kök', 'Professorsslingan 61 / 1203', 'Lappkärrsberget', '23', '7965', '2024-07-01', 'False', 'False', 'False'], ['7202-6503-111', '2 rum & kök', 'Professorsslingan 65 / 1111', 'Lappkärrsberget', '35', '10636', '2024-07-01', 'False', 'False', 'False'], ['7303-2603-001', '4 rum & kök', 'Professorsslingan 33 / 1101', 'Lappkärrsberget', '75', '10802', '2024-07-01', 'False', 'False', 'False'], ['7707-0507-005', '1 rum & pentry', 'Forskarbacken 13 / 1605', 'Lappkärrsberget', '19', '4098', '2024-07-01', 'True', 'False', 'False'], ['3622-9910-013', '1 rum & pentry', 'Norra Stationsgatan 99 / 1751', 'Idun', '17', '5122', '2024-07-01', 'True', 'False', 'False'], ['6404-0201-004', '1 rum & pentry', 'Kungshamra  2 / 1006', 'Kungshamra', '23', '5038', '2024-07-01', 'False', 'False', 'False'], ['6404-0301-021', '1 rum & pentry', 'Kungshamra  3 / 1016', 'Kungshamra', '23', '5038', '2024-07-01', 'False', 'False', 'False'], ['6404-8104-003', '1 rum & pentry', 'Kungshamra 81 / 1303', 'Kungshamra', '23', '5033', '2024-07-01', 'False', 'False', 'False'], ['7202-6105-105', '1 rum & kök', 'Professorsslingan 61 / 1305', 'Lappkärrsberget', '22', '7760', '2024-06-16', 'False', 'False', 'False'], ['7101-5106-022', '1 rum & pentry', 'Professorsslingan 10 / 1322', 'Lappkärrsberget', '25', '6023', '2024-06-16', 'True', 'False', 'False'], ['3622-9905-016', '1 rum & pentry', 'Norra Stationsgatan 99 / 1249', 'Idun', '19', '4596', '2024-06-16', 'True', 'False', 'False'], ['2303-0913-005', '2 rum & pentry', 'Körsbärsvägen 9 / 1905', 'Nyponet', '37', '7491', '2024-07-01', 'False', 'False', 'False'], ['3419-3602-003', 'Rum i kollektiv', 'Kammakargatan 36 A / 1003', 'Kurland', '20', '5377', '2024-07-01', 'True', 'False', 'True'], ['3419-3605-007', 'Rum i kollektiv', 'Kammakargatan 36 A / 1301', 'Kurland', '14', '5471', '2024-07-01', 'True', 'False', 'True'], ['3419-3703-003', 'Rum i kollektiv', 'Kammakargatan 36 B / 1203', 'Kurland', '13', '5467', '2024-07-01', 'True', 'False', 'True'], ['3419-3704-005', 'Rum i kollektiv', 'Kammakargatan 36 B / 1305', 'Kurland', '16', '6768', '2024-07-01', 'True', 'False', 'True'], ['3622-9204-169', '1 rum & pentry', 'Norra Stationsgatan 99 / 1163', 'Idun', '20', '5562', '2024-07-01', 'True', 'False', 'False'], ['3622-9905-019', '1 rum & pentry', 'Norra Stationsgatan 99 / 1266', 'Idun', '18', '4427', '2024-07-01', 'True', 'False', 'False'], ['3622-9906-065', '1 rum & pentry', 'Norra Stationsgatan 99 / 1320', 'Idun', '20', '4715', '2024-07-01', 'True', 'False', 'False'], ['3622-9908-036', '1 rum & pentry', 'Norra Stationsgatan 99 / 1537', 'Idun', '20', '4551', '2024-07-01', 'True', 'False', 'False'], ['3622-9909-063', '1 rum & pentry', 'Norra Stationsgatan 99 / 1622', 'Idun', '19', '4458', '2024-07-01', 'True', 'False', 'False'], ['3622-9910-066', '1 rum & pentry', 'Norra Stationsgatan 99 / 1715', 'Idun', '14', '4617', '2024-07-01', 'True', 'False', 'False'], ['4210-0110-015', '1 rum & pentry', 'Röntgenvägen 1 / 1702', 'Flemingsberg', '28', '4060', '2024-07-01', 'True', 'False', 'False'], ['4210-0115-008', '2 rum & pentry', 'Röntgenvägen 1 / 2215', 'Flemingsberg', '42', '5982', '2024-07-01', 'True', 'False', 'False'], ['4415-0109-001', '2 rum & kök', 'Maltgatan  4 / 1711', 'Embla', '47', '10601', '2024-07-01', 'False', 'False', 'False'], ['4602-2003-1209', '1 rum & kök', 'Understensvägen 20 / 1209', 'Birka', '26', '8030', '2024-07-01', 'False', 'False', 'False'], ['5102-3203-003', '2 rum & pentry', 'Armégatan 32 A / 1130', 'Strix', '36', '5072', '2024-07-01', 'False', 'False', 'True'], ['5102-3506-013', '1 rum & pentry', 'Armégatan 32 B / 1413', 'Strix', '20', '6655', '2024-07-01', 'False', 'False', 'False'], ['5102-3607-012', '1 rum & pentry', 'Armégatan 32 C / 1612', 'Strix', '20', '6642', '2024-07-01', 'False', 'False', 'False'], ['5201-0505-015', '1 rum & pentry', 'Emmylundsvägen 5 / 1205', 'Pax', '22', '4900', '2024-07-01', 'False', 'False', 'False'], ['5201-0507-017', '1 rum & pentry', 'Emmylundsvägen 5 / 1402', 'Pax', '22', '4900', '2024-07-01', 'False', 'False', 'False'], ['5711-0202-002', '1 rum & pentry', 'Gärdesvägen  2 / 1102', 'Freja', '23', '5129', '2024-07-01', 'True', 'False', 'False'], ['6202-1102-1024', '1 rum & kök', 'Kungshamra 11 / 1024', 'Kungshamra', '18', '6470', '2024-07-01', 'False', 'False', 'False'], ['6202-2102-1018', '1 rum & kök', 'Kungshamra 21 / 1018', 'Kungshamra', '18', '6890', '2024-07-01', 'False', 'False', 'False'], ['6202-2103-1116', '1 rum & kök', 'Kungshamra 21 / 1116', 'Kungshamra', '18', '6854', '2024-07-01', 'False', 'False', 'False'], ['6202-2105-1309', '1 rum & kök', 'Kungshamra 21 / 1309', 'Kungshamra', '18', '6866', '2024-07-01', 'False', 'False', 'False'], ['6202-2601-005', '3 rum & kök', 'Kungshamra 26 B / 1002', 'Kungshamra', '56', '12541', '2024-07-01', 'False', 'False', 'False'], ['6202-4703-006', '1 rum & pentry', 'Kungshamra 47 / 1205', 'Kungshamra', '23', '5038', '2024-07-01', 'False', 'False', 'False'], ['6404-0201-001', '1 rum & pentry', 'Kungshamra  2 / 1004', 'Kungshamra', '23', '5038', '2024-07-01', 'False', 'False', 'False'], ['6404-0304-004', '1 rum & pentry', 'Kungshamra  3 / 1307', 'Kungshamra', '23', '5038', '2024-07-01', 'False', 'False', 'False'], ['6404-8102-017', '1 rum & pentry', 'Kungshamra 81 / 1113', 'Kungshamra', '23', '5033', '2024-07-01', 'False', 'False', 'False'], ['6404-8202-003', '1 rum & pentry', 'Kungshamra 82 / 1103', 'Kungshamra', '23', '5033', '2024-07-01', 'False', 'False', 'False'], ['6404-8204-012', '1 rum & pentry', 'Kungshamra 82 / 1310', 'Kungshamra', '23', '5033', '2024-07-01', 'False', 'False', 'False'], ['7202-4707-101', '1 rum & kök', 'Professorsslingan 47 / 1701', 'Lappkärrsberget', '23', '7676', '2024-07-01', 'False', 'False', 'False'], ['7202-4902-104', '2 rum & kök', 'Professorsslingan 49 / 1204', 'Lappkärrsberget', '44', '11275', '2024-07-01', 'False', 'False', 'False'], ['7202-5104-106', '1 rum & kök', 'Professorsslingan 51 / 1406', 'Lappkärrsberget', '22', '7617', '2024-07-01', 'False', 'False', 'False'], ['7202-5301-108', '1 rum & kök', 'Professorsslingan 53 / 1108', 'Lappkärrsberget', '24', '7811', '2024-07-01', 'False', 'False', 'False'], ['7202-5303-101', '1 rum & kök', 'Professorsslingan 53 / 1301', 'Lappkärrsberget', '24', '7811', '2024-07-01', 'False', 'False', 'False'], ['7202-5706-102', '1 rum & kök', 'Professorsslingan 57 / 1402', 'Lappkärrsberget', '21', '7740', '2024-07-01', 'False', 'False', 'False'], ['7202-6107-102', '1 rum & kök', 'Professorsslingan 61 / 1502', 'Lappkärrsberget', '22', '7758', '2024-07-01', 'False', 'False', 'False'], ['7202-6505-109', '1 rum & kök', 'Professorsslingan 65 / 1309', 'Lappkärrsberget', '23', '7968', '2024-07-01', 'False', 'False', 'False'], ['7202-5302-103', '1 rum & kök', 'Professorsslingan 53 / 1203', 'Lappkärrsberget', '22', '7617', '2024-07-01', 'False', 'False', 'False'], ['7303-3205-003', '3 rum & pentry', 'Professorsslingan 45 / 1303', 'Lappkärrsberget', '58', '9009', '2024-07-01', 'False', 'False', 'False'], ['4210-0114-007', '1 rum & pentry', 'Röntgenvägen 1 / 2122', 'Flemingsberg', '28', '4060', '2024-06-16', 'True', 'False', 'False'], ['7202-5105-103', '1 rum & kök', 'Professorsslingan 51 / 1503', 'Lappkärrsberget', '22', '7617', '2024-06-16', 'False', 'False', 'False'], ['8504-0100-0105', '1 rum & pentry', 'Tantogatan 71 / 1004', 'Tanto', '24', '4871', '2024-06-05', 'True', 'False', 'False']]\n",
      "https://sssb.se/soka-bostad/sok-ledigt/lediga-bostader/lagenhet/?refid=71496844384e446d6663685634583037692b3653584e37624b434734584b496c6557424558674d7870466f3d\n",
      "https://sssb.se/soka-bostad/sok-ledigt/lediga-bostader/lagenhet/?refid=6362682f357730654a52676b355a4173625237676b4d43544f64563355434b57336d44376a4a316c456a453d\n",
      "https://sssb.se/soka-bostad/sok-ledigt/lediga-bostader/lagenhet/?refid=5356426733787551503066656e562b4b423736594448694c5651636262504a5366466151486e2b494e55553d\n",
      "https://sssb.se/soka-bostad/sok-ledigt/lediga-bostader/lagenhet/?refid=356f59726b6956754f45376b4b4e707a6e48665971473159682f455767316b4875533266484e4a396250453d\n",
      "https://sssb.se/soka-bostad/sok-ledigt/lediga-bostader/lagenhet/?refid=596b4d314873737a4d534352433068786151454730523967713951486971417171496f37414143694133343d\n",
      "https://sssb.se/soka-bostad/sok-ledigt/lediga-bostader/lagenhet/?refid=684f4a68717169443335374630586a525a754a43583747727933634d48474d763644676d4173373777594d3d\n",
      "https://sssb.se/soka-bostad/sok-ledigt/lediga-bostader/lagenhet/?refid=4a6f6a4a49576e415661504e6d6c6b68644e39506d52346f4c426565562b6a5057476e4253454b3749426f3d\n",
      "https://sssb.se/soka-bostad/sok-ledigt/lediga-bostader/lagenhet/?refid=4b516361796b376d59526843547442415a33596574476a467761316746626a54797054534869784b5747383d\n",
      "https://sssb.se/soka-bostad/sok-ledigt/lediga-bostader/lagenhet/?refid=6e6449784a565078447178614c4b2f463038455066565842394a754333546d3330477054787069375575413d\n",
      "https://sssb.se/soka-bostad/sok-ledigt/lediga-bostader/lagenhet/?refid=4d445154443578754c5a2f664246532b72553463686d577551306e5479505437575261366f575943352b773d\n",
      "https://sssb.se/soka-bostad/sok-ledigt/lediga-bostader/lagenhet/?refid=3834655675477766473578514f43576e414c34442f5979386f506e4f414a62726947445554714d77624f413d\n",
      "https://sssb.se/soka-bostad/sok-ledigt/lediga-bostader/lagenhet/?refid=6c6a38666e47555445706c7043514f67394b55416b3530686d56347056344673724d6d306d5a31372f394d3d\n",
      "https://sssb.se/soka-bostad/sok-ledigt/lediga-bostader/lagenhet/?refid=4a307633614b4163344f4b61444a6d64353139674b2b3858537970686639462b375a5679615a55507542733d\n",
      "https://sssb.se/soka-bostad/sok-ledigt/lediga-bostader/lagenhet/?refid=714f6c77305347344e6a48557261504251344659496c5339463349704c6858444275484f7339656f4f4f673d\n",
      "https://sssb.se/soka-bostad/sok-ledigt/lediga-bostader/lagenhet/?refid=644c356830776452324d33796642707842645476473178646662795930794368326c504471394a435458593d\n",
      "https://sssb.se/soka-bostad/sok-ledigt/lediga-bostader/lagenhet/?refid=795344667a7236365a35344c4535344a6334617a2f3476784266546c5a716b6d74586271573634627132413d\n",
      "https://sssb.se/soka-bostad/sok-ledigt/lediga-bostader/lagenhet/?refid=74667935386c73317479356b6f495a2f6878487a2f4567734c706a366c584843756e50576835787542486b3d\n",
      "https://sssb.se/soka-bostad/sok-ledigt/lediga-bostader/lagenhet/?refid=61536e756f6a65786a7476414563356a3657426943496d6b613964634257704e794d366d444e676a3744633d\n",
      "https://sssb.se/soka-bostad/sok-ledigt/lediga-bostader/lagenhet/?refid=366a5646565956524d4f722f5674522b4b4a4e6e4c54756a2f32695a515550765966726e5345766c4658593d\n",
      "https://sssb.se/soka-bostad/sok-ledigt/lediga-bostader/lagenhet/?refid=4747574c526c6c53637431766b516554454c6a666d6852586957653435774a50344c317975637550726f453d\n",
      "https://sssb.se/soka-bostad/sok-ledigt/lediga-bostader/lagenhet/?refid=556f706349444779624d4933797873495652437659565535356d6b5433647738373444506855486476536b3d\n",
      "https://sssb.se/soka-bostad/sok-ledigt/lediga-bostader/lagenhet/?refid=546847314b455438546b7747756a53774c344d587233577a676a7634333234796559324d647a33666e48413d\n",
      "https://sssb.se/soka-bostad/sok-ledigt/lediga-bostader/lagenhet/?refid=726e797744302f3969504b372b47746846696245446c66506a65456862314b4463644958316b5a614146593d\n",
      "https://sssb.se/soka-bostad/sok-ledigt/lediga-bostader/lagenhet/?refid=326f4453446469414741646b445a712f4139645066464176746b51776b326e394d6a2b314f7355704b50553d\n",
      "https://sssb.se/soka-bostad/sok-ledigt/lediga-bostader/lagenhet/?refid=55792b6f53466c78667336626d4e353341735a35734743676d51735638333371345a47364d6b493052684d3d\n",
      "https://sssb.se/soka-bostad/sok-ledigt/lediga-bostader/lagenhet/?refid=4d4d795055676e55693544503356684d655851697772766c37664e634175596b455944466d464e547265633d\n",
      "https://sssb.se/soka-bostad/sok-ledigt/lediga-bostader/lagenhet/?refid=6a55324147436d3542766d7472516d5566784870734b4b4f746c5a686330643477345166446561453774383d\n",
      "https://sssb.se/soka-bostad/sok-ledigt/lediga-bostader/lagenhet/?refid=3656614d3644786465774965766153744f4d3165705545676a523359412f63594873363375654a597439633d\n",
      "https://sssb.se/soka-bostad/sok-ledigt/lediga-bostader/lagenhet/?refid=41753379393132582b59394b6e5a7738444b6f574d54694767514759386a5749666c4c4d542f436d4156343d\n",
      "https://sssb.se/soka-bostad/sok-ledigt/lediga-bostader/lagenhet/?refid=376948434948487a416357706a507a5270527434656d2b6a5463506d5249797962497350347549567661513d\n",
      "https://sssb.se/soka-bostad/sok-ledigt/lediga-bostader/lagenhet/?refid=706c396c6369354c627433464e564139636c487530666d5464456b6a6157564c5a6777674d6e6773436b343d\n",
      "https://sssb.se/soka-bostad/sok-ledigt/lediga-bostader/lagenhet/?refid=626e666e576e517237547177516250733971566f6c486e76686d6b3049364c55664542395373542f5764733d\n",
      "https://sssb.se/soka-bostad/sok-ledigt/lediga-bostader/lagenhet/?refid=6c79392b4c6a67645631676359766c3336713049702f7a6835463472464f3042485831436c575834774e593d\n",
      "https://sssb.se/soka-bostad/sok-ledigt/lediga-bostader/lagenhet/?refid=76426144675644585a566b72376a3237746f5653492f4573374c5a472b2b5871547467464a6647533738453d\n",
      "https://sssb.se/soka-bostad/sok-ledigt/lediga-bostader/lagenhet/?refid=57665258696d522f6d4c59532f676e57726d377255306b704366312f7834665548323948363931422f69553d\n",
      "https://sssb.se/soka-bostad/sok-ledigt/lediga-bostader/lagenhet/?refid=74396d48347056764161674f544a63646f674a524865452b7261342f4c79786462636e332f5479515841673d\n",
      "https://sssb.se/soka-bostad/sok-ledigt/lediga-bostader/lagenhet/?refid=486442464a4a4b3561714c68506b5271776d39485656336276594c36416156475936544f6632524463336b3d\n",
      "https://sssb.se/soka-bostad/sok-ledigt/lediga-bostader/lagenhet/?refid=38704237435979593043775947543347544f4c764c6b6372522b7863315777746237774930514e767070513d\n",
      "https://sssb.se/soka-bostad/sok-ledigt/lediga-bostader/lagenhet/?refid=456e6e63616659414f4f564a4f612f724a343773486a72644d50377848476e6c46412f6f64563936594e453d\n",
      "https://sssb.se/soka-bostad/sok-ledigt/lediga-bostader/lagenhet/?refid=62777332666b4f445a446a61556668396b383067415776506b67517370424532732f792b712b693757544d3d\n",
      "https://sssb.se/soka-bostad/sok-ledigt/lediga-bostader/lagenhet/?refid=775230354f416c62376e696d637a306c52777a7750675246506e6a612b596a4f633359575a2f7933686a513d\n",
      "https://sssb.se/soka-bostad/sok-ledigt/lediga-bostader/lagenhet/?refid=324c2b373965526150576c6c4f4f4d524f69694633544d576c3057702f585151567136577054764c5037303d\n",
      "https://sssb.se/soka-bostad/sok-ledigt/lediga-bostader/lagenhet/?refid=356e4539334e3035487566465162793943525854746f3932513934713656344e4454612f4b4763756257733d\n",
      "https://sssb.se/soka-bostad/sok-ledigt/lediga-bostader/lagenhet/?refid=4f315343794a32437648344436705579784d623232442f6d37776f2f78357362675a726e6751486a3349413d\n",
      "https://sssb.se/soka-bostad/sok-ledigt/lediga-bostader/lagenhet/?refid=7350737772796653444c4c2f6134764a36646264485a774d3249626c6847322b34723173514a595558596b3d\n"
     ]
    }
   ],
   "source": [
    "FIELD_NAMES = [\"Id\", \"Type\", \"Area\", \"Address\", \"Floor\", \"Orientation\", \"Living space\", \"Rent\", \"Contract start\", \"Electricity included\", \"Free rent summer\", \"Max 4 years\", \"Link\", \"Free text\"]\n",
    "\n",
    "with open(\"data/apartments_db.csv\") as file:\n",
    "    data = list(csv.reader(file))\n",
    "    \n",
    "print(data)\n",
    "\n",
    "data[0] = FIELD_NAMES\n",
    "\n",
    "for row in data[1:]:\n",
    "    address = row[3]\n",
    "    row[3] = row[2]\n",
    "    row[2] = address\n",
    "    row.insert(4, None)\n",
    "    row.insert(4, None)\n",
    "    row.append(None)\n",
    "    row.append(None)\n",
    "    \n",
    "\n",
    "n_replacements = 0\n",
    "\n",
    "for i in range(1, len(data)):\n",
    "    if data[i][0] in current_apartments:\n",
    "        app = current_apartments[data[i][0]]\n",
    "        print(app.link)\n",
    "        data[i] = [app.id, app.type, app.area, app.address, app.floor, app.orientation, app.living_space, app.rent, app.contract_start, app.electricity_included, app.free_rent_summer, app.max_4_years, app.link, app.free_text]\n",
    "\n",
    "with open(\"data/new_db.csv\", \"w\") as file:\n",
    "    file = csv.writer(file)\n",
    "    file.writerows(data)"
   ]
  }
 ],
 "metadata": {
  "kernelspec": {
   "display_name": "sssb",
   "language": "python",
   "name": "python3"
  },
  "language_info": {
   "codemirror_mode": {
    "name": "ipython",
    "version": 3
   },
   "file_extension": ".py",
   "mimetype": "text/x-python",
   "name": "python",
   "nbconvert_exporter": "python",
   "pygments_lexer": "ipython3",
   "version": "3.11.9"
  }
 },
 "nbformat": 4,
 "nbformat_minor": 2
}
